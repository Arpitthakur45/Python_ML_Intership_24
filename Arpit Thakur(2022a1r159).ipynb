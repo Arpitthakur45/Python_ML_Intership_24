{
 "cells": [
  {
   "cell_type": "code",
   "execution_count": 17,
   "id": "6eddc284-2a14-4da4-a8ba-2f91f2326797",
   "metadata": {},
   "outputs": [
    {
     "name": "stdout",
     "output_type": "stream",
     "text": [
      "        *  \n",
      "      * *  \n",
      "    * * *  \n",
      "  * * * *  \n",
      "* * * * *  \n"
     ]
    }
   ],
   "source": [
    "rows = 5\n",
    "m = 2 * rows - 2\n",
    "for i in range(0, rows):\n",
    "    for j in range(0,m):        \n",
    "        print(end=\" \")\n",
    "    m = m - 2\n",
    "    for j in range(0, i + 1):  \n",
    "        print(\"* \", end=\"\")\n",
    "    print(\" \")"
   ]
  },
  {
   "cell_type": "code",
   "execution_count": 76,
   "id": "a6f8406f-1758-48f7-b097-f9bec2d4126d",
   "metadata": {},
   "outputs": [
    {
     "name": "stdin",
     "output_type": "stream",
     "text": [
      "Enter first number :  4\n",
      "Enter second number :  0\n"
     ]
    },
    {
     "name": "stdout",
     "output_type": "stream",
     "text": [
      "Error: Cannot divide by Zero.Please don't try again\n"
     ]
    },
    {
     "name": "stdin",
     "output_type": "stream",
     "text": [
      "Enter first number :  3\n",
      "Enter second number :  5\n"
     ]
    },
    {
     "name": "stdout",
     "output_type": "stream",
     "text": [
      "The result of dividing 3.0 by 5.0 is : 0.6\n"
     ]
    }
   ],
   "source": [
    "def get_number(prompt):\n",
    "    while True:\n",
    "         try:\n",
    "             return float(input(prompt))\n",
    "         except ValueError:\n",
    "                     print(\"Invalid Input .Kindly enter a vaild number\")\n",
    "            \n",
    "def divide_numbers():\n",
    "    while True:\n",
    "        try:\n",
    "            num1 = get_number(\"Enter first number : \")\n",
    "            num2 = get_number(\"Enter second number : \")\n",
    "            result = num1/num2\n",
    "            print(\"The result of dividing {num1} by {num2} is : {result}\")\n",
    "            break\n",
    "        except ZeroDivisionError:\n",
    "                print(\"Error: Cannot divide by Zero.Please don't try again\")\n",
    "            \n",
    "divide_numbers()          "
   ]
  },
  {
   "cell_type": "code",
   "execution_count": null,
   "id": "532e43e5-4329-412e-8f5e-3de79ec17b5f",
   "metadata": {},
   "outputs": [],
   "source": []
  }
 ],
 "metadata": {
  "kernelspec": {
   "display_name": "Python 3 (ipykernel)",
   "language": "python",
   "name": "python3"
  },
  "language_info": {
   "codemirror_mode": {
    "name": "ipython",
    "version": 3
   },
   "file_extension": ".py",
   "mimetype": "text/x-python",
   "name": "python",
   "nbconvert_exporter": "python",
   "pygments_lexer": "ipython3",
   "version": "3.12.4"
  }
 },
 "nbformat": 4,
 "nbformat_minor": 5
}
